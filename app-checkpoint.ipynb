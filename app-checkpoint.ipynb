{
 "cells": [
  {
   "cell_type": "code",
   "execution_count": 2,
   "id": "9e59c0a7",
   "metadata": {},
   "outputs": [
    {
     "name": "stdout",
     "output_type": "stream",
     "text": [
      "Collecting streamlit\n",
      "  Downloading streamlit-1.42.2-py2.py3-none-any.whl.metadata (8.9 kB)\n",
      "Collecting altair<6,>=4.0 (from streamlit)\n",
      "  Downloading altair-5.5.0-py3-none-any.whl.metadata (11 kB)\n",
      "Collecting blinker<2,>=1.0.0 (from streamlit)\n",
      "  Downloading blinker-1.9.0-py3-none-any.whl.metadata (1.6 kB)\n",
      "Collecting cachetools<6,>=4.0 (from streamlit)\n",
      "  Downloading cachetools-5.5.2-py3-none-any.whl.metadata (5.4 kB)\n",
      "Requirement already satisfied: click<9,>=7.0 in c:\\users\\lenovo ssd\\anaconda3\\lib\\site-packages (from streamlit) (8.1.7)\n",
      "Requirement already satisfied: numpy<3,>=1.23 in c:\\users\\lenovo ssd\\anaconda3\\lib\\site-packages (from streamlit) (1.24.3)\n",
      "Requirement already satisfied: packaging<25,>=20 in c:\\users\\lenovo ssd\\anaconda3\\lib\\site-packages (from streamlit) (23.1)\n",
      "Requirement already satisfied: pandas<3,>=1.4.0 in c:\\users\\lenovo ssd\\anaconda3\\lib\\site-packages (from streamlit) (2.2.3)\n",
      "Requirement already satisfied: pillow<12,>=7.1.0 in c:\\users\\lenovo ssd\\anaconda3\\lib\\site-packages (from streamlit) (9.4.0)\n",
      "Requirement already satisfied: protobuf<6,>=3.20 in c:\\users\\lenovo ssd\\anaconda3\\lib\\site-packages (from streamlit) (4.25.3)\n",
      "Requirement already satisfied: pyarrow>=7.0 in c:\\users\\lenovo ssd\\anaconda3\\lib\\site-packages (from streamlit) (16.1.0)\n",
      "Requirement already satisfied: requests<3,>=2.27 in c:\\users\\lenovo ssd\\anaconda3\\lib\\site-packages (from streamlit) (2.31.0)\n",
      "Requirement already satisfied: rich<14,>=10.14.0 in c:\\users\\lenovo ssd\\anaconda3\\lib\\site-packages (from streamlit) (13.7.1)\n",
      "Requirement already satisfied: tenacity<10,>=8.1.0 in c:\\users\\lenovo ssd\\anaconda3\\lib\\site-packages (from streamlit) (8.2.2)\n",
      "Requirement already satisfied: toml<2,>=0.10.1 in c:\\users\\lenovo ssd\\anaconda3\\lib\\site-packages (from streamlit) (0.10.2)\n",
      "Requirement already satisfied: typing-extensions<5,>=4.4.0 in c:\\users\\lenovo ssd\\anaconda3\\lib\\site-packages (from streamlit) (4.12.2)\n",
      "Requirement already satisfied: watchdog<7,>=2.1.5 in c:\\users\\lenovo ssd\\anaconda3\\lib\\site-packages (from streamlit) (2.1.6)\n",
      "Collecting gitpython!=3.1.19,<4,>=3.0.7 (from streamlit)\n",
      "  Downloading GitPython-3.1.44-py3-none-any.whl.metadata (13 kB)\n",
      "Collecting pydeck<1,>=0.8.0b4 (from streamlit)\n",
      "  Downloading pydeck-0.9.1-py2.py3-none-any.whl.metadata (4.1 kB)\n",
      "Requirement already satisfied: tornado<7,>=6.0.3 in c:\\users\\lenovo ssd\\anaconda3\\lib\\site-packages (from streamlit) (6.3.2)\n",
      "Requirement already satisfied: jinja2 in c:\\users\\lenovo ssd\\anaconda3\\lib\\site-packages (from altair<6,>=4.0->streamlit) (3.1.2)\n",
      "Requirement already satisfied: jsonschema>=3.0 in c:\\users\\lenovo ssd\\anaconda3\\lib\\site-packages (from altair<6,>=4.0->streamlit) (4.17.3)\n",
      "Collecting narwhals>=1.14.2 (from altair<6,>=4.0->streamlit)\n",
      "  Downloading narwhals-1.28.0-py3-none-any.whl.metadata (10 kB)\n",
      "Requirement already satisfied: colorama in c:\\users\\lenovo ssd\\anaconda3\\lib\\site-packages (from click<9,>=7.0->streamlit) (0.4.6)\n",
      "Collecting gitdb<5,>=4.0.1 (from gitpython!=3.1.19,<4,>=3.0.7->streamlit)\n",
      "  Downloading gitdb-4.0.12-py3-none-any.whl.metadata (1.2 kB)\n",
      "Requirement already satisfied: python-dateutil>=2.8.2 in c:\\users\\lenovo ssd\\anaconda3\\lib\\site-packages (from pandas<3,>=1.4.0->streamlit) (2.8.2)\n",
      "Requirement already satisfied: pytz>=2020.1 in c:\\users\\lenovo ssd\\anaconda3\\lib\\site-packages (from pandas<3,>=1.4.0->streamlit) (2023.3.post1)\n",
      "Requirement already satisfied: tzdata>=2022.7 in c:\\users\\lenovo ssd\\anaconda3\\lib\\site-packages (from pandas<3,>=1.4.0->streamlit) (2023.3)\n",
      "Requirement already satisfied: charset-normalizer<4,>=2 in c:\\users\\lenovo ssd\\anaconda3\\lib\\site-packages (from requests<3,>=2.27->streamlit) (2.0.4)\n",
      "Requirement already satisfied: idna<4,>=2.5 in c:\\users\\lenovo ssd\\anaconda3\\lib\\site-packages (from requests<3,>=2.27->streamlit) (3.4)\n",
      "Requirement already satisfied: urllib3<3,>=1.21.1 in c:\\users\\lenovo ssd\\anaconda3\\lib\\site-packages (from requests<3,>=2.27->streamlit) (1.26.16)\n",
      "Requirement already satisfied: certifi>=2017.4.17 in c:\\users\\lenovo ssd\\anaconda3\\lib\\site-packages (from requests<3,>=2.27->streamlit) (2024.7.4)\n",
      "Requirement already satisfied: markdown-it-py>=2.2.0 in c:\\users\\lenovo ssd\\anaconda3\\lib\\site-packages (from rich<14,>=10.14.0->streamlit) (2.2.0)\n",
      "Requirement already satisfied: pygments<3.0.0,>=2.13.0 in c:\\users\\lenovo ssd\\anaconda3\\lib\\site-packages (from rich<14,>=10.14.0->streamlit) (2.15.1)\n",
      "Collecting smmap<6,>=3.0.1 (from gitdb<5,>=4.0.1->gitpython!=3.1.19,<4,>=3.0.7->streamlit)\n",
      "  Downloading smmap-5.0.2-py3-none-any.whl.metadata (4.3 kB)\n",
      "Requirement already satisfied: MarkupSafe>=2.0 in c:\\users\\lenovo ssd\\anaconda3\\lib\\site-packages (from jinja2->altair<6,>=4.0->streamlit) (2.1.1)\n",
      "Requirement already satisfied: attrs>=17.4.0 in c:\\users\\lenovo ssd\\anaconda3\\lib\\site-packages (from jsonschema>=3.0->altair<6,>=4.0->streamlit) (25.1.0)\n",
      "Requirement already satisfied: pyrsistent!=0.17.0,!=0.17.1,!=0.17.2,>=0.14.0 in c:\\users\\lenovo ssd\\anaconda3\\lib\\site-packages (from jsonschema>=3.0->altair<6,>=4.0->streamlit) (0.18.0)\n",
      "Requirement already satisfied: mdurl~=0.1 in c:\\users\\lenovo ssd\\anaconda3\\lib\\site-packages (from markdown-it-py>=2.2.0->rich<14,>=10.14.0->streamlit) (0.1.0)\n",
      "Requirement already satisfied: six>=1.5 in c:\\users\\lenovo ssd\\anaconda3\\lib\\site-packages (from python-dateutil>=2.8.2->pandas<3,>=1.4.0->streamlit) (1.16.0)\n",
      "Downloading streamlit-1.42.2-py2.py3-none-any.whl (9.6 MB)\n",
      "   ---------------------------------------- 0.0/9.6 MB ? eta -:--:--\n",
      "   ---------------------------------------- 0.0/9.6 MB ? eta -:--:--\n",
      "   ---------------------------------------- 0.0/9.6 MB ? eta -:--:--\n",
      "   - -------------------------------------- 0.3/9.6 MB ? eta -:--:--\n",
      "   -- ------------------------------------- 0.5/9.6 MB 2.4 MB/s eta 0:00:04\n",
      "   ---- ----------------------------------- 1.0/9.6 MB 2.2 MB/s eta 0:00:04\n",
      "   ---- ----------------------------------- 1.0/9.6 MB 2.2 MB/s eta 0:00:04\n",
      "   ----- ---------------------------------- 1.3/9.6 MB 1.4 MB/s eta 0:00:07\n",
      "   ------ --------------------------------- 1.6/9.6 MB 1.2 MB/s eta 0:00:07\n",
      "   ------ --------------------------------- 1.6/9.6 MB 1.2 MB/s eta 0:00:07\n",
      "   ------- -------------------------------- 1.8/9.6 MB 1.2 MB/s eta 0:00:07\n",
      "   -------- ------------------------------- 2.1/9.6 MB 1.1 MB/s eta 0:00:07\n",
      "   ---------- ----------------------------- 2.6/9.6 MB 1.2 MB/s eta 0:00:06\n",
      "   ------------ --------------------------- 2.9/9.6 MB 1.3 MB/s eta 0:00:06\n",
      "   -------------- ------------------------- 3.4/9.6 MB 1.4 MB/s eta 0:00:05\n",
      "   ---------------- ----------------------- 3.9/9.6 MB 1.5 MB/s eta 0:00:04\n",
      "   ------------------ --------------------- 4.5/9.6 MB 1.6 MB/s eta 0:00:04\n",
      "   ------------------- -------------------- 4.7/9.6 MB 1.6 MB/s eta 0:00:04\n",
      "   --------------------- ------------------ 5.2/9.6 MB 1.6 MB/s eta 0:00:03\n",
      "   ------------------------ --------------- 5.8/9.6 MB 1.6 MB/s eta 0:00:03\n",
      "   -------------------------- ------------- 6.3/9.6 MB 1.7 MB/s eta 0:00:02\n",
      "   ---------------------------- ----------- 6.8/9.6 MB 1.8 MB/s eta 0:00:02\n",
      "   ------------------------------ --------- 7.3/9.6 MB 1.8 MB/s eta 0:00:02\n",
      "   -------------------------------- ------- 7.9/9.6 MB 1.8 MB/s eta 0:00:01\n",
      "   ----------------------------------- ---- 8.4/9.6 MB 1.8 MB/s eta 0:00:01\n",
      "   ------------------------------------- -- 8.9/9.6 MB 1.9 MB/s eta 0:00:01\n",
      "   ---------------------------------------  9.4/9.6 MB 1.9 MB/s eta 0:00:01\n",
      "   ---------------------------------------- 9.6/9.6 MB 1.9 MB/s eta 0:00:00\n",
      "Downloading altair-5.5.0-py3-none-any.whl (731 kB)\n",
      "   ---------------------------------------- 0.0/731.2 kB ? eta -:--:--\n",
      "   ---------------------------- ----------- 524.3/731.2 kB 2.4 MB/s eta 0:00:01\n",
      "   ---------------------------------------- 731.2/731.2 kB 2.3 MB/s eta 0:00:00\n",
      "Downloading blinker-1.9.0-py3-none-any.whl (8.5 kB)\n",
      "Downloading cachetools-5.5.2-py3-none-any.whl (10 kB)\n",
      "Downloading GitPython-3.1.44-py3-none-any.whl (207 kB)\n",
      "Downloading pydeck-0.9.1-py2.py3-none-any.whl (6.9 MB)\n",
      "   ---------------------------------------- 0.0/6.9 MB ? eta -:--:--\n",
      "   --- ------------------------------------ 0.5/6.9 MB 2.4 MB/s eta 0:00:03\n",
      "   ------ --------------------------------- 1.0/6.9 MB 2.4 MB/s eta 0:00:03\n",
      "   --------- ------------------------------ 1.6/6.9 MB 2.3 MB/s eta 0:00:03\n",
      "   ---------- ----------------------------- 1.8/6.9 MB 2.3 MB/s eta 0:00:03\n",
      "   ------------- -------------------------- 2.4/6.9 MB 2.2 MB/s eta 0:00:03\n",
      "   --------------- ------------------------ 2.6/6.9 MB 2.0 MB/s eta 0:00:03\n",
      "   ---------------- ----------------------- 2.9/6.9 MB 2.0 MB/s eta 0:00:03\n",
      "   ------------------- -------------------- 3.4/6.9 MB 2.0 MB/s eta 0:00:02\n",
      "   --------------------- ------------------ 3.7/6.9 MB 2.0 MB/s eta 0:00:02\n",
      "   ------------------------ --------------- 4.2/6.9 MB 1.9 MB/s eta 0:00:02\n",
      "   ------------------------- -------------- 4.5/6.9 MB 1.8 MB/s eta 0:00:02\n",
      "   --------------------------- ------------ 4.7/6.9 MB 1.8 MB/s eta 0:00:02\n",
      "   --------------------------- ------------ 4.7/6.9 MB 1.8 MB/s eta 0:00:02\n",
      "   ------------------------------ --------- 5.2/6.9 MB 1.7 MB/s eta 0:00:01\n",
      "   ------------------------------ --------- 5.2/6.9 MB 1.7 MB/s eta 0:00:01\n",
      "   ------------------------------- -------- 5.5/6.9 MB 1.6 MB/s eta 0:00:01\n",
      "   --------------------------------- ------ 5.8/6.9 MB 1.6 MB/s eta 0:00:01\n",
      "   ---------------------------------- ----- 6.0/6.9 MB 1.5 MB/s eta 0:00:01\n",
      "   ------------------------------------ --- 6.3/6.9 MB 1.5 MB/s eta 0:00:01\n",
      "   ------------------------------------ --- 6.3/6.9 MB 1.5 MB/s eta 0:00:01\n",
      "   ------------------------------------- -- 6.6/6.9 MB 1.5 MB/s eta 0:00:01\n",
      "   ---------------------------------------- 6.9/6.9 MB 1.4 MB/s eta 0:00:00\n",
      "Downloading gitdb-4.0.12-py3-none-any.whl (62 kB)\n",
      "Downloading narwhals-1.28.0-py3-none-any.whl (308 kB)\n",
      "Downloading smmap-5.0.2-py3-none-any.whl (24 kB)\n",
      "Installing collected packages: smmap, narwhals, cachetools, blinker, pydeck, gitdb, altair, gitpython, streamlit\n",
      "Successfully installed altair-5.5.0 blinker-1.9.0 cachetools-5.5.2 gitdb-4.0.12 gitpython-3.1.44 narwhals-1.28.0 pydeck-0.9.1 smmap-5.0.2 streamlit-1.42.2\n",
      "Note: you may need to restart the kernel to use updated packages.\n"
     ]
    },
    {
     "name": "stderr",
     "output_type": "stream",
     "text": [
      "\n",
      "[notice] A new release of pip is available: 24.2 -> 25.0.1\n",
      "[notice] To update, run: python.exe -m pip install --upgrade pip\n"
     ]
    }
   ],
   "source": [
    "pip install streamlit"
   ]
  },
  {
   "cell_type": "code",
   "execution_count": 4,
   "id": "b7f932c5",
   "metadata": {},
   "outputs": [
    {
     "name": "stdout",
     "output_type": "stream",
     "text": [
      "Collecting streamlit-option-menu\n",
      "  Downloading streamlit_option_menu-0.4.0-py3-none-any.whl.metadata (2.5 kB)\n",
      "Requirement already satisfied: streamlit>=1.36 in c:\\users\\lenovo ssd\\anaconda3\\lib\\site-packages (from streamlit-option-menu) (1.42.2)\n",
      "Requirement already satisfied: altair<6,>=4.0 in c:\\users\\lenovo ssd\\anaconda3\\lib\\site-packages (from streamlit>=1.36->streamlit-option-menu) (5.5.0)\n",
      "Requirement already satisfied: blinker<2,>=1.0.0 in c:\\users\\lenovo ssd\\anaconda3\\lib\\site-packages (from streamlit>=1.36->streamlit-option-menu) (1.9.0)\n",
      "Requirement already satisfied: cachetools<6,>=4.0 in c:\\users\\lenovo ssd\\anaconda3\\lib\\site-packages (from streamlit>=1.36->streamlit-option-menu) (5.5.2)\n",
      "Requirement already satisfied: click<9,>=7.0 in c:\\users\\lenovo ssd\\anaconda3\\lib\\site-packages (from streamlit>=1.36->streamlit-option-menu) (8.1.7)\n",
      "Requirement already satisfied: numpy<3,>=1.23 in c:\\users\\lenovo ssd\\anaconda3\\lib\\site-packages (from streamlit>=1.36->streamlit-option-menu) (1.24.3)\n",
      "Requirement already satisfied: packaging<25,>=20 in c:\\users\\lenovo ssd\\anaconda3\\lib\\site-packages (from streamlit>=1.36->streamlit-option-menu) (23.1)\n",
      "Requirement already satisfied: pandas<3,>=1.4.0 in c:\\users\\lenovo ssd\\anaconda3\\lib\\site-packages (from streamlit>=1.36->streamlit-option-menu) (2.2.3)\n",
      "Requirement already satisfied: pillow<12,>=7.1.0 in c:\\users\\lenovo ssd\\anaconda3\\lib\\site-packages (from streamlit>=1.36->streamlit-option-menu) (9.4.0)\n",
      "Requirement already satisfied: protobuf<6,>=3.20 in c:\\users\\lenovo ssd\\anaconda3\\lib\\site-packages (from streamlit>=1.36->streamlit-option-menu) (4.25.3)\n",
      "Requirement already satisfied: pyarrow>=7.0 in c:\\users\\lenovo ssd\\anaconda3\\lib\\site-packages (from streamlit>=1.36->streamlit-option-menu) (16.1.0)\n",
      "Requirement already satisfied: requests<3,>=2.27 in c:\\users\\lenovo ssd\\anaconda3\\lib\\site-packages (from streamlit>=1.36->streamlit-option-menu) (2.31.0)\n",
      "Requirement already satisfied: rich<14,>=10.14.0 in c:\\users\\lenovo ssd\\anaconda3\\lib\\site-packages (from streamlit>=1.36->streamlit-option-menu) (13.7.1)\n",
      "Requirement already satisfied: tenacity<10,>=8.1.0 in c:\\users\\lenovo ssd\\anaconda3\\lib\\site-packages (from streamlit>=1.36->streamlit-option-menu) (8.2.2)\n",
      "Requirement already satisfied: toml<2,>=0.10.1 in c:\\users\\lenovo ssd\\anaconda3\\lib\\site-packages (from streamlit>=1.36->streamlit-option-menu) (0.10.2)\n",
      "Requirement already satisfied: typing-extensions<5,>=4.4.0 in c:\\users\\lenovo ssd\\anaconda3\\lib\\site-packages (from streamlit>=1.36->streamlit-option-menu) (4.12.2)\n",
      "Requirement already satisfied: watchdog<7,>=2.1.5 in c:\\users\\lenovo ssd\\anaconda3\\lib\\site-packages (from streamlit>=1.36->streamlit-option-menu) (2.1.6)\n",
      "Requirement already satisfied: gitpython!=3.1.19,<4,>=3.0.7 in c:\\users\\lenovo ssd\\anaconda3\\lib\\site-packages (from streamlit>=1.36->streamlit-option-menu) (3.1.44)\n",
      "Requirement already satisfied: pydeck<1,>=0.8.0b4 in c:\\users\\lenovo ssd\\anaconda3\\lib\\site-packages (from streamlit>=1.36->streamlit-option-menu) (0.9.1)\n",
      "Requirement already satisfied: tornado<7,>=6.0.3 in c:\\users\\lenovo ssd\\anaconda3\\lib\\site-packages (from streamlit>=1.36->streamlit-option-menu) (6.3.2)\n",
      "Requirement already satisfied: jinja2 in c:\\users\\lenovo ssd\\anaconda3\\lib\\site-packages (from altair<6,>=4.0->streamlit>=1.36->streamlit-option-menu) (3.1.2)\n",
      "Requirement already satisfied: jsonschema>=3.0 in c:\\users\\lenovo ssd\\anaconda3\\lib\\site-packages (from altair<6,>=4.0->streamlit>=1.36->streamlit-option-menu) (4.17.3)\n",
      "Requirement already satisfied: narwhals>=1.14.2 in c:\\users\\lenovo ssd\\anaconda3\\lib\\site-packages (from altair<6,>=4.0->streamlit>=1.36->streamlit-option-menu) (1.28.0)\n",
      "Requirement already satisfied: colorama in c:\\users\\lenovo ssd\\anaconda3\\lib\\site-packages (from click<9,>=7.0->streamlit>=1.36->streamlit-option-menu) (0.4.6)\n",
      "Requirement already satisfied: gitdb<5,>=4.0.1 in c:\\users\\lenovo ssd\\anaconda3\\lib\\site-packages (from gitpython!=3.1.19,<4,>=3.0.7->streamlit>=1.36->streamlit-option-menu) (4.0.12)\n",
      "Requirement already satisfied: python-dateutil>=2.8.2 in c:\\users\\lenovo ssd\\anaconda3\\lib\\site-packages (from pandas<3,>=1.4.0->streamlit>=1.36->streamlit-option-menu) (2.8.2)\n",
      "Requirement already satisfied: pytz>=2020.1 in c:\\users\\lenovo ssd\\anaconda3\\lib\\site-packages (from pandas<3,>=1.4.0->streamlit>=1.36->streamlit-option-menu) (2023.3.post1)\n",
      "Requirement already satisfied: tzdata>=2022.7 in c:\\users\\lenovo ssd\\anaconda3\\lib\\site-packages (from pandas<3,>=1.4.0->streamlit>=1.36->streamlit-option-menu) (2023.3)\n",
      "Requirement already satisfied: charset-normalizer<4,>=2 in c:\\users\\lenovo ssd\\anaconda3\\lib\\site-packages (from requests<3,>=2.27->streamlit>=1.36->streamlit-option-menu) (2.0.4)\n",
      "Requirement already satisfied: idna<4,>=2.5 in c:\\users\\lenovo ssd\\anaconda3\\lib\\site-packages (from requests<3,>=2.27->streamlit>=1.36->streamlit-option-menu) (3.4)\n",
      "Requirement already satisfied: urllib3<3,>=1.21.1 in c:\\users\\lenovo ssd\\anaconda3\\lib\\site-packages (from requests<3,>=2.27->streamlit>=1.36->streamlit-option-menu) (1.26.16)\n",
      "Requirement already satisfied: certifi>=2017.4.17 in c:\\users\\lenovo ssd\\anaconda3\\lib\\site-packages (from requests<3,>=2.27->streamlit>=1.36->streamlit-option-menu) (2024.7.4)\n",
      "Requirement already satisfied: markdown-it-py>=2.2.0 in c:\\users\\lenovo ssd\\anaconda3\\lib\\site-packages (from rich<14,>=10.14.0->streamlit>=1.36->streamlit-option-menu) (2.2.0)\n",
      "Requirement already satisfied: pygments<3.0.0,>=2.13.0 in c:\\users\\lenovo ssd\\anaconda3\\lib\\site-packages (from rich<14,>=10.14.0->streamlit>=1.36->streamlit-option-menu) (2.15.1)\n",
      "Requirement already satisfied: smmap<6,>=3.0.1 in c:\\users\\lenovo ssd\\anaconda3\\lib\\site-packages (from gitdb<5,>=4.0.1->gitpython!=3.1.19,<4,>=3.0.7->streamlit>=1.36->streamlit-option-menu) (5.0.2)\n",
      "Requirement already satisfied: MarkupSafe>=2.0 in c:\\users\\lenovo ssd\\anaconda3\\lib\\site-packages (from jinja2->altair<6,>=4.0->streamlit>=1.36->streamlit-option-menu) (2.1.1)\n",
      "Requirement already satisfied: attrs>=17.4.0 in c:\\users\\lenovo ssd\\anaconda3\\lib\\site-packages (from jsonschema>=3.0->altair<6,>=4.0->streamlit>=1.36->streamlit-option-menu) (25.1.0)\n",
      "Requirement already satisfied: pyrsistent!=0.17.0,!=0.17.1,!=0.17.2,>=0.14.0 in c:\\users\\lenovo ssd\\anaconda3\\lib\\site-packages (from jsonschema>=3.0->altair<6,>=4.0->streamlit>=1.36->streamlit-option-menu) (0.18.0)\n",
      "Requirement already satisfied: mdurl~=0.1 in c:\\users\\lenovo ssd\\anaconda3\\lib\\site-packages (from markdown-it-py>=2.2.0->rich<14,>=10.14.0->streamlit>=1.36->streamlit-option-menu) (0.1.0)\n",
      "Requirement already satisfied: six>=1.5 in c:\\users\\lenovo ssd\\anaconda3\\lib\\site-packages (from python-dateutil>=2.8.2->pandas<3,>=1.4.0->streamlit>=1.36->streamlit-option-menu) (1.16.0)\n",
      "Downloading streamlit_option_menu-0.4.0-py3-none-any.whl (829 kB)\n",
      "   ---------------------------------------- 0.0/829.3 kB ? eta -:--:--\n",
      "   ---------------------------------------- 0.0/829.3 kB ? eta -:--:--\n",
      "   ------------ --------------------------- 262.1/829.3 kB ? eta -:--:--\n",
      "   ---------------------------------------- 829.3/829.3 kB 1.8 MB/s eta 0:00:00\n",
      "Installing collected packages: streamlit-option-menu\n",
      "Successfully installed streamlit-option-menu-0.4.0\n",
      "Note: you may need to restart the kernel to use updated packages.\n"
     ]
    },
    {
     "name": "stderr",
     "output_type": "stream",
     "text": [
      "\n",
      "[notice] A new release of pip is available: 24.2 -> 25.0.1\n",
      "[notice] To update, run: python.exe -m pip install --upgrade pip\n"
     ]
    }
   ],
   "source": [
    "pip install streamlit-option-menu\n"
   ]
  },
  {
   "cell_type": "code",
   "execution_count": 5,
   "id": "f78b5d41",
   "metadata": {},
   "outputs": [
    {
     "name": "stderr",
     "output_type": "stream",
     "text": [
      "2025-02-25 06:16:15.184 WARNING streamlit.runtime.scriptrunner_utils.script_run_context: Thread 'MainThread': missing ScriptRunContext! This warning can be ignored when running in bare mode.\n"
     ]
    }
   ],
   "source": [
    "import streamlit as st\n",
    "import pickle\n",
    "from streamlit_option_menu import option_menu"
   ]
  },
  {
   "cell_type": "code",
   "execution_count": 6,
   "id": "ab0fddee",
   "metadata": {},
   "outputs": [
    {
     "name": "stderr",
     "output_type": "stream",
     "text": [
      "2025-02-25 06:16:37.295 WARNING streamlit.runtime.scriptrunner_utils.script_run_context: Thread 'MainThread': missing ScriptRunContext! This warning can be ignored when running in bare mode.\n",
      "2025-02-25 06:16:37.296 WARNING streamlit.runtime.scriptrunner_utils.script_run_context: Thread 'MainThread': missing ScriptRunContext! This warning can be ignored when running in bare mode.\n",
      "2025-02-25 06:16:37.375 \n",
      "  \u001b[33m\u001b[1mWarning:\u001b[0m to view this Streamlit app on a browser, run it with the following\n",
      "  command:\n",
      "\n",
      "    streamlit run C:\\Users\\lenovo ssd\\anaconda3\\Lib\\site-packages\\ipykernel_launcher.py [ARGUMENTS]\n",
      "2025-02-25 06:16:37.376 Thread 'MainThread': missing ScriptRunContext! This warning can be ignored when running in bare mode.\n"
     ]
    },
    {
     "data": {
      "text/plain": [
       "DeltaGenerator()"
      ]
     },
     "execution_count": 6,
     "metadata": {},
     "output_type": "execute_result"
    }
   ],
   "source": [
    "# Change Name & Logo\n",
    "st.set_page_config(page_title=\"Disease Prediction\", page_icon=\"⚕️\")\n",
    "\n",
    "# Hiding Streamlit add-ons\n",
    "hide_st_style = \"\"\"\n",
    "            <style>\n",
    "            #MainMenu {visibility: hidden;}\n",
    "            footer {visibility: hidden;}\n",
    "            header {visibility: hidden;}\n",
    "            </style>\n",
    "            \"\"\"\n",
    "st.markdown(hide_st_style, unsafe_allow_html=True)"
   ]
  },
  {
   "cell_type": "code",
   "execution_count": 7,
   "id": "754907c3",
   "metadata": {},
   "outputs": [
    {
     "name": "stderr",
     "output_type": "stream",
     "text": [
      "2025-02-25 06:17:02.939 Thread 'MainThread': missing ScriptRunContext! This warning can be ignored when running in bare mode.\n",
      "2025-02-25 06:17:02.941 Thread 'MainThread': missing ScriptRunContext! This warning can be ignored when running in bare mode.\n"
     ]
    },
    {
     "data": {
      "text/plain": [
       "DeltaGenerator()"
      ]
     },
     "execution_count": 7,
     "metadata": {},
     "output_type": "execute_result"
    }
   ],
   "source": [
    "# Adding Background Image\n",
    "background_image_url = \"https://www.strategyand.pwc.com/m1/en/strategic-foresight/sector-strategies/healthcare/ai-powered-healthcare-solutions/img01-section1.jpg\"  # Replace with your image URL\n",
    "\n",
    "page_bg_img = f\"\"\"\n",
    "<style>\n",
    "[data-testid=\"stAppViewContainer\"] {{\n",
    "background-image: url({background_image_url});\n",
    "background-size: cover;\n",
    "background-position: center;\n",
    "background-repeat: no-repeat;\n",
    "background-attachment: fixed;\n",
    "}}\n",
    "\n",
    "[data-testid=\"stAppViewContainer\"]::before {{\n",
    "content: \"\";\n",
    "position: absolute;\n",
    "top: 0;\n",
    "left: 0;\n",
    "width: 100%;\n",
    "height: 100%;\n",
    "background-color: rgba(0, 0, 0, 0.7);\n",
    "}}\n",
    "</style>\n",
    "\"\"\"\n",
    "st.markdown(page_bg_img, unsafe_allow_html=True)\n"
   ]
  },
  {
   "cell_type": "code",
   "execution_count": 8,
   "id": "149f04f2",
   "metadata": {},
   "outputs": [
    {
     "name": "stderr",
     "output_type": "stream",
     "text": [
      "2025-02-25 06:17:40.121 Thread 'MainThread': missing ScriptRunContext! This warning can be ignored when running in bare mode.\n",
      "2025-02-25 06:17:40.122 Thread 'MainThread': missing ScriptRunContext! This warning can be ignored when running in bare mode.\n"
     ]
    },
    {
     "data": {
      "text/plain": [
       "DeltaGenerator()"
      ]
     },
     "execution_count": 8,
     "metadata": {},
     "output_type": "execute_result"
    }
   ],
   "source": [
    "# Adding Background Image\n",
    "background_image_url = \"https://www.strategyand.pwc.com/m1/en/strategic-foresight/sector-strategies/healthcare/ai-powered-healthcare-solutions/img01-section1.jpg\"  # Replace with your image URL\n",
    "\n",
    "page_bg_img = f\"\"\"\n",
    "<style>\n",
    "[data-testid=\"stAppViewContainer\"] {{\n",
    "background-image: url({background_image_url});\n",
    "background-size: cover;\n",
    "background-position: center;\n",
    "background-repeat: no-repeat;\n",
    "background-attachment: fixed;\n",
    "}}\n",
    "\n",
    "[data-testid=\"stAppViewContainer\"]::before {{\n",
    "content: \"\";\n",
    "position: absolute;\n",
    "top: 0;\n",
    "left: 0;\n",
    "width: 100%;\n",
    "height: 100%;\n",
    "background-color: rgba(0, 0, 0, 0.7);\n",
    "}}\n",
    "</style>\n",
    "\"\"\"\n",
    "st.markdown(page_bg_img, unsafe_allow_html=True)\n"
   ]
  },
  {
   "cell_type": "code",
   "execution_count": null,
   "id": "ea58a888",
   "metadata": {},
   "outputs": [],
   "source": []
  }
 ],
 "metadata": {
  "kernelspec": {
   "display_name": "Python 3 (ipykernel)",
   "language": "python",
   "name": "python3"
  },
  "language_info": {
   "codemirror_mode": {
    "name": "ipython",
    "version": 3
   },
   "file_extension": ".py",
   "mimetype": "text/x-python",
   "name": "python",
   "nbconvert_exporter": "python",
   "pygments_lexer": "ipython3",
   "version": "3.11.5"
  }
 },
 "nbformat": 4,
 "nbformat_minor": 5
}
